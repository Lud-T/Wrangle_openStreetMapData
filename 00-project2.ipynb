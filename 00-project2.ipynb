{
 "cells": [
  {
   "cell_type": "markdown",
   "metadata": {},
   "source": [
    "# NOTA\n",
    "\n",
    "First submission\n",
    "\n",
    "[My GitHub](https://github.com/Lud-T/Wrangle_openStreetMapData)\n",
    "\n",
    "\n",
    "\n",
    "**What's new :**\n",
    "\n",
    "First submission\n",
    "\n",
    "\n",
    "\n",
    "Go to projet <li><a href=\"#summary\">Summary</a></li>"
   ]
  },
  {
   "cell_type": "markdown",
   "metadata": {},
   "source": [
    "Links I had to use to do the project.\n",
    "\n",
    "**Overview**\n",
    "More specifics pages and URL will be mentionned in the corresponding file. \n",
    "\n",
    "A lot of [GitHub](https://github.com/), it is so priceless I made one to help others.  \n",
    "I learn a lot from the differents solutions every people used, then I have been able to create my solution I understand.\n",
    "\n",
    "\n",
    "[Open Street Map WIKI](https://wiki.openstreetmap.org/wiki/Beginners_Guide_1.3)\n",
    "\n",
    "[This one provided by Udacity as a model](https://gist.github.com/carlward/54ec1c91b62a5f911c42)\n",
    "\n",
    "\n",
    "[Regular Expression officielle](https://docs.python.org/fr/3/howto/regex.html)  \n",
    "[Official Regular Expression](https://docs.python.org/3/howto/regex.html)\n",
    "\n",
    "\n",
    "[ForLoop](https://wiki.python.org/moin/ForLoop)\n",
    "\n",
    "\n",
    "[Dictionnaires in FR](https://openclassrooms.com/fr/courses/235344-apprenez-a-programmer-en-python/232273-utilisez-des-dictionnaires)\n",
    "\n",
    "[Dictionaries & Lists](https://docs.python.org/3/tutorial/datastructures.html)\n",
    "\n",
    "[Dictionaries](https://www.programiz.com/python-programming/dictionary)"
   ]
  },
  {
   "cell_type": "markdown",
   "metadata": {},
   "source": [
    "<a id='summary'></a>\n",
    "# Project 2 : Wrangle OpenStreetMap Data\n",
    "\n",
    "\n",
    "## Table of Contents\n",
    "<ul>\n",
    "<li><a href=\"#intro\">Introduction</a></li>\n",
    "<li><a href=\"#Overview\">Overview of data</a></li>\n",
    "\n",
    "<li><a href=\"#conclusions\">Conclusions</a></li>\n",
    "</ul>"
   ]
  },
  {
   "cell_type": "markdown",
   "metadata": {},
   "source": [
    "<a id='intro'></a>\n",
    "## Introduction\n",
    "\n",
    "This project is about data wrangling of XML data from open street map.\n",
    "\n",
    "[Map on OpenStreetMap](https://www.openstreetmap.org/#map=12/43.6246/5.1165)\n",
    "\n",
    "[My data on GitHub](https://github.com/Lud-T/Wrangle_openStreetMapData/tree/main/data)\n",
    "\n",
    "[Map download](https://overpass-api.de/api/map?bbox=5.0242,43.5703,5.2245,43.6798)\n",
    "\n",
    "\n",
    "This map is where I live, I think I know well the place and its specificities. It will help me to identify errors.\n",
    "\n"
   ]
  },
  {
   "cell_type": "markdown",
   "metadata": {},
   "source": [
    "<a id='Overview'></a>\n",
    "## Overview\n",
    "\n",
    "**According to \"1-overview.ipynb\" in my GitHub**  \n",
    "Link to put\n",
    "\n",
    "### I analyse the tags\n",
    "\n",
    "```python\n",
    "[('note', 1),\n",
    " ('meta', 1),\n",
    " ('bounds', 1),\n",
    " ('osm', 1),\n",
    " ('relation', 400),\n",
    " ('way', 58953),\n",
    " ('member', 124844),\n",
    " ('tag', 156258),\n",
    " ('node', 352867),\n",
    " ('nd', 482449)]\n",
    "```\n",
    "\n",
    "\n",
    "\n",
    "### I analyse the second level tags"
   ]
  },
  {
   "cell_type": "markdown",
   "metadata": {},
   "source": [
    "**My comments on importing the data**\n",
    "\n",
    "It seems data are well imported.\n",
    "\n",
    "But : I do not know these date format.\n",
    "\n",
    "**let's try all basics functions of dataframe**\n",
    "\n",
    "[Exploration](https://nbviewer.jupyter.org/format/slides/github/jorisvandenbossche/2015-PyDataParis/blob/master/pandas_introduction.ipynb#/9/1)\n",
    "\n",
    ".info()  \n",
    ".describe()  \n",
    ".shape  \n",
    ".isnull()  \n",
    ".duplicated()  \n",
    ".nunique()  \n",
    ".empty() => not relevant"
   ]
  },
  {
   "cell_type": "markdown",
   "metadata": {},
   "source": [
    "\n"
   ]
  },
  {
   "cell_type": "markdown",
   "metadata": {
    "collapsed": true
   },
   "source": [
    "**NOTA**\n",
    "I cleaned the columns names during the investigation in order to avoid making the code obsolete\n",
    "I did not see any data value to clean as the goal is to predict if a patient will come or not and there were not a lot of bad data.\n"
   ]
  },
  {
   "cell_type": "markdown",
   "metadata": {},
   "source": [
    "<a id='eda'></a>\n",
    "## Exploratory Data Analysis\n"
   ]
  },
  {
   "cell_type": "markdown",
   "metadata": {},
   "source": [
    "### Research Question 1 : What is the percentage of appointments patient did not come :\n",
    "\n",
    "This question is pretty obvious.  \n",
    "How many appointement are not honored."
   ]
  },
  {
   "cell_type": "markdown",
   "metadata": {},
   "source": [
    "Raw data are explicit but let's display them in a pie chart"
   ]
  },
  {
   "cell_type": "markdown",
   "metadata": {},
   "source": [
    "**result** \n",
    "\n",
    "20% of appointments no patient come is huge.\n",
    "If a doctor has 10 appointments a morning, it means 2 people do not come. In a day, it's up to 4 people !  \n",
    "Let's check if the SMS reception change something"
   ]
  },
  {
   "cell_type": "markdown",
   "metadata": {},
   "source": [
    "### Research Question 2  : SMS reception and appointments\n",
    "\n",
    "Let's check if the reception of SMS may lead to more honored appointmens "
   ]
  },
  {
   "cell_type": "code",
   "execution_count": 14,
   "metadata": {},
   "outputs": [
    {
     "data": {
      "image/png": "[encoded data removed]",
      "text/plain": [
       "<matplotlib.figure.Figure at 0x7f94d989e2b0>"
      ]
     },
     "metadata": {},
     "output_type": "display_data"
    }
   ],
   "source": [
    "#Create a dataframe with only appointment without patient\n",
    "df_not_came=df[df['Patient_came']==0]\n",
    "\n",
    "#Now, I create 2 others from the previous one with the reception or not of SMS.\n",
    "\n",
    "#No patient and No SMS\n",
    "df_not_came_NoSMS = df_not_came[df_not_came['SMS_received']==0]\n",
    "\n",
    "#No patient but SMS received\n",
    "df_not_came_SMS = df_not_came[df_not_came['SMS_received']==1]\n",
    "\n",
    "#Now, I want the count of appointment not honored\n",
    "notCome = df_not_came.SMS_received.count()\n",
    "\n",
    "#And the count of appopintement honored or not\n",
    "total = df.No_show.count()\n",
    "\n",
    "#No, I can calculate the ratio\n",
    "#Appointement not honored and no SMS were sent\n",
    "ratioNoSMS = (df_not_came_NoSMS.SMS_received.count()/total*100)\n",
    "\n",
    "#Appointement not honored and but SMS were sent\n",
    "ratioSMS = (df_not_came_SMS.SMS_received.count()/total*100)\n",
    "\n",
    "#Some print to check the data\n",
    "#print ('not come with SMS : ',ratioSMS)\n",
    "#print ('not come without SMS : ',ratioNoSMS)\n",
    "#print ('not come sum : ',df_not_came_SMS.SMS_received.count()+df_not_came_NoSMS.SMS_received.count())\n",
    "#print('total',total)\n",
    "\n",
    "\n",
    "# Pie chart, where the slices will be ordered and plotted counter-clockwise:\n",
    "labels = 'Not came & No SMS received', 'Not Showed whereas SMS received', 'Patient came'\n",
    "explode = (0.1, 0.1, 0)  # only \"explode\" the 2nd slice (i.e. 'Hogs')\n",
    "\n",
    "\n",
    "#Data of the pie part !\n",
    "showedNotshowed = [ratioNoSMS, ratioSMS, Showed/total*100]\n",
    "\n",
    "#Just debug during learning :)\n",
    "#print (showedNotshowed)\n",
    "\n",
    "#Set and display graph\n",
    "fig1, ax1 = plt.subplots()\n",
    "ax1.pie(showedNotshowed, explode=explode, labels=labels, autopct='%1.1f%%', shadow=True, startangle=210)\n",
    "ax1.axis('equal')  # Equal aspect ratio ensures that pie is drawn as a circle.\n",
    "\n",
    "plt.title('Appointment Ratio patient came or not and SMS reception', fontdict=None, loc='center')\n",
    "\n",
    "plt.show()\n",
    "\n",
    "\n"
   ]
  },
  {
   "cell_type": "markdown",
   "metadata": {},
   "source": [
    "**result** \n",
    "\n",
    "When we look for the impact of the SMS, we see it is slighty better but I am not sure this is the most significant relationship to predict if an appointment will be honored or not."
   ]
  },
  {
   "cell_type": "markdown",
   "metadata": {},
   "source": [
    "### Research Question 3  : Age !\n",
    "\n",
    "The age is an easy data to analyse.  \n",
    "I tried 2 ways.\n",
    "\n",
    "**First one : raw histogramm**"
   ]
  },
  {
   "cell_type": "code",
   "execution_count": 15,
   "metadata": {
    "scrolled": false
   },
   "outputs": [
    {
     "data": {
      "image/png": "[encoded data removed]",
      "text/plain": [
       "<matplotlib.figure.Figure at 0x7f94d9a08828>"
      ]
     },
     "metadata": {
      "needs_background": "light"
     },
     "output_type": "display_data"
    }
   ],
   "source": [
    "#I filter the data I want to hist\n",
    "# age !\n",
    "\n",
    "\n",
    "#Age total of appointment\n",
    "#total = df.Age\n",
    "\n",
    "#Age appointement honored\n",
    "came = df.Age[df['Patient_came']==1]\n",
    "\n",
    "\n",
    "#age appointment not honoured\n",
    "notCame = df.Age[df['Patient_came']==0]\n",
    "\n",
    "#totalV = plt.hist(total,bins=10)\n",
    "\n",
    "#Display double hist\n",
    "cameV = plt.hist(came,bins=10, label='Patient came')\n",
    "notCameV = plt.hist(notCame,bins=10, label='Patient missed')\n",
    "\n",
    "#Some check\n",
    "#print (totalV)\n",
    "#print (cameV)\n",
    "#print (notCameV)\n",
    "plt.legend()\n",
    "\n",
    "#tableAgeNotCameRatio = pd.DataFrame((cameV[0]/totalV[0]*100).round(2))\n",
    "\n",
    "#print(tableAgeNotCameRatio)\n",
    "\n",
    "plt.title('Appointment distribution according to Age', fontdict=None, loc='center')\n",
    "plt.ylabel('Sum of appointments')\n",
    "plt.xlabel('Patients Ages')\n",
    "\n",
    "#Set size\n",
    "fig_size = plt.rcParams[\"figure.figsize\"]\n",
    "fig_size[0] = 15\n",
    "fig_size[1] = 12\n",
    "plt.rcParams[\"figure.figsize\"] = fig_size\n"
   ]
  },
  {
   "cell_type": "markdown",
   "metadata": {},
   "source": [
    "The raw histogramm is not enough accurate to me.  \n",
    "\n",
    "\n",
    "\n",
    "I prefer work with percentage "
   ]
  },
  {
   "cell_type": "code",
   "execution_count": 16,
   "metadata": {},
   "outputs": [
    {
     "name": "stderr",
     "output_type": "stream",
     "text": [
      "/opt/conda/lib/python3.6/site-packages/ipykernel_launcher.py:23: RuntimeWarning: invalid value encountered in true_divide\n"
     ]
    },
    {
     "data": {
      "image/png": "[encoded data removed]",
      "text/plain": [
       "<matplotlib.figure.Figure at 0x7f94d8c33cf8>"
      ]
     },
     "metadata": {
      "needs_background": "light"
     },
     "output_type": "display_data"
    }
   ],
   "source": [
    "#https://stackoverflow.com/questions/40092294/creating-a-matplotlib-or-seaborn-histogram-which-uses-percent-rather-than-count\n",
    "\n",
    "#split data patient came to appointment\n",
    "df_came=df[df['Patient_came']==1]\n",
    "\n",
    "#ppointment patient were not showed\n",
    "df_not_came=df[df['Patient_came']==0]\n",
    "\n",
    "\n",
    "#Create Bins\n",
    "age_bins=np.linspace(-1,120,25) #We can use age.max and .min for that\n",
    "\n",
    "#Use np.histogram to generate histogram data\n",
    "\n",
    "#Value of the distribution appointment people came\n",
    "came_hist=np.histogram(df_came['Age'],bins=age_bins,range=(-1,120))\n",
    "\n",
    "#Value of the distribution appointment people not showed\n",
    "not_came_hist=np.histogram(df_not_came['Age'],bins=age_bins,range=(-1,120))\n",
    "\n",
    "#Calculate survival rate in each bin\n",
    "#I calculate with the value of the histogram thanks to the same number of bins !\n",
    "came_rates=came_hist[0]/(came_hist[0]+not_came_hist[0])\n",
    "\n",
    "#Plot\n",
    "#Now I just have to display the ratio\n",
    "plt.bar(age_bins[:-1],came_rates,width=age_bins[1]-age_bins[0])\n",
    "plt.xlabel('Age')\n",
    "plt.ylabel('Ratio Patient not came/Patient Came')\n",
    "\n",
    "plt.title('Appointement respect rate per age');\n"
   ]
  },
  {
   "cell_type": "markdown",
   "metadata": {},
   "source": [
    "**result** \n",
    "\n",
    "**NOTA** \n",
    "A division by 0 warning still allow me to display the graph\n",
    "\n",
    "Raw histogramm was not enough to me but the ratio per age show appointments of  18 years old more or less patients are less honored than the others.  \n",
    "Appointment for patient of an average of 70 years old are the most honored. (there is an exception at 100 but 100 is an exception)\n",
    "\n"
   ]
  },
  {
   "cell_type": "markdown",
   "metadata": {},
   "source": [
    "### Research Question 4 : Delay !\n",
    "\n",
    "Since the beginning of the study, I was sure the time before the appointment has an impact on the presence of the patient, let's check it."
   ]
  },
  {
   "cell_type": "code",
   "execution_count": 17,
   "metadata": {},
   "outputs": [],
   "source": [
    "#This part if only textual data and initialization ones\n",
    "\n",
    "#As usual I keep the data I want\n",
    "\n",
    "#Apppointement patient came\n",
    "df_came=df[df['Patient_came']==1]\n",
    "\n",
    "#Apppointement patient not came\n",
    "df_not_came=df[df['Patient_came']==0]\n",
    "\n",
    "#Print for check\n",
    "#print ('deltaCameMax:',df_came.delta.max())\n",
    "#print ('deltaNotCameMax:',df_not_came.delta.max())\n",
    "\n",
    "\n",
    "#As I will check two set of data not really with the same bins value, I'll determine the maximum range !\n",
    "#Maximum day before scheduling ! \n",
    "maxDelta = df_not_came.delta.dt.days.max()\n",
    "if df_came.delta.dt.days.max() > maxDelta:\n",
    "    maxDelta = df_came.delta.dt.days.max()\n",
    "#Check I had the max of the dataframe, patient showed or not\n",
    "#I may have used the original dataframe when I see the code now.\n",
    "    \n",
    "    \n",
    "#Some print to check while I test the code step by step    \n",
    "#print ('DeltaMax:',maxDelta)\n",
    "#print ('deltaCameMin:',df_came.delta.min())\n",
    "#print ('deltaNotCameMin:',df_not_came.delta.min())\n",
    "\n",
    "#As I will check two set of data not really with the same bins value, I'll determine the range !\n",
    "#Minimum day before scheduling !\n",
    "minDelta = df_not_came.delta.dt.days.min()\n",
    "if df_came.delta.dt.days.min() < minDelta:\n",
    "    minDelta = df_came.delta.dt.days.min()\n",
    "#Check I had the min of the two dataframe, patient showed or not\n",
    "#I may have used the original dataframe when I see the code now.\n",
    "\n",
    "#Some print to check while I test the code step by step\n",
    "#print ('DeltaMin:',minDelta)    \n",
    "\n",
    "#df_came.delta.max()\n",
    "#print (maxDelta+pd.Timedelta(days=1))"
   ]
  },
  {
   "cell_type": "code",
   "execution_count": 18,
   "metadata": {},
   "outputs": [
    {
     "data": {
      "image/png": "[encoded data removed]",
      "text/plain": [
       "<matplotlib.figure.Figure at 0x7f94d8baf4a8>"
      ]
     },
     "metadata": {
      "needs_background": "light"
     },
     "output_type": "display_data"
    }
   ],
   "source": [
    "#https://stackoverflow.com/questions/40092294/creating-a-matplotlib-or-seaborn-histogram-which-uses-percent-rather-than-count\n",
    "\n",
    "#split data patient came to appointment\n",
    "df_came=df[df['Patient_came']==1]\n",
    "\n",
    "#appointment patient were not showed\n",
    "df_not_came=df[df['Patient_came']==0]\n",
    "\n",
    "#Create Bins\n",
    "#Generate bins range automatically\n",
    "#if the data change no code to change, it was not the case when I worked on ages\n",
    "age_bins=np.linspace(minDelta,maxDelta,15)\n",
    "\n",
    "#Use np.histogram to generate histogram data\n",
    "#Value of the distribution appointment people came\n",
    "came_hist=np.histogram(df_came['deltaDay'],bins=age_bins,range=(minDelta,maxDelta))\n",
    "\n",
    "#Value of the distribution appointment people not showed\n",
    "not_came_hist=np.histogram(df_not_came['deltaDay'],bins=age_bins,range=(minDelta,maxDelta))\n",
    "\n",
    "#Calculate survival rate in each bin\n",
    "#I calculate with the value of the histogram thanks to the same number of bins !\n",
    "came_rates=came_hist[0]/(came_hist[0]+not_came_hist[0])\n",
    "\n",
    "#Plot\n",
    "\n",
    "plt.bar(age_bins[:-1],came_rates,width=age_bins[1]-age_bins[0])\n",
    "plt.xlabel('Day scheduled before appointement')\n",
    "plt.ylabel('Ratio Patient not came/Patient Came')\n",
    "plt.title('Appointement respect rate per Days before appointment scheduling');"
   ]
  },
  {
   "cell_type": "markdown",
   "metadata": {
    "scrolled": true
   },
   "source": [
    "**result** \n",
    "\n",
    "\n",
    "We may see a tendancy to have more appointment honored when the scheduling was not so late.\n",
    "\n",
    "I'll continue the exploration to find something more singnificant\n"
   ]
  },
  {
   "cell_type": "markdown",
   "metadata": {},
   "source": [
    "### Research Question 5  : Desease !\n",
    "\n",
    "\n",
    "Reminder : 20% of appointments no patient came in general\n",
    "\n",
    "I will identify the patient with known medical problem and check if they are more respecting their appointments.\n",
    "\n",
    "To do it, I keep only with Hypertension, Diabetes, Alcoholism is declared or handicap any of the ones."
   ]
  },
  {
   "cell_type": "code",
   "execution_count": 19,
   "metadata": {},
   "outputs": [],
   "source": [
    "#Create a dataframe with only people with disease or handicap known\n",
    "#Disease be 1 or handicap must be different from 0\n",
    "patient_with_medical_problem = df[\n",
    "    (df[\"Hypertension\"] == 1) |\n",
    "    (df[\"Diabetes\"] == 1) |\n",
    "    (df[\"Alcoholism\"] == 1) |\n",
    "    (df[\"Handcap\"] != 0)\n",
    "]"
   ]
  },
  {
   "cell_type": "code",
   "execution_count": 20,
   "metadata": {},
   "outputs": [
    {
     "name": "stdout",
     "output_type": "stream",
     "text": [
      "Appointment with Patient with known disease or handicap did not came :  4716\n",
      "Total of appointment with Patient with known disease or handicap :  26412\n",
      "Percentage appointment with Patient with known disease or handicap did not come 17.86\n"
     ]
    }
   ],
   "source": [
    "#Now I filter from the previous table the number of appointment with or without patient\n",
    "notShowedMP = patient_with_medical_problem.No_show.value_counts()['Yes']\n",
    "totalAppointmentMP = patient_with_medical_problem.No_show.count()\n",
    "\n",
    "print ('Appointment with Patient with known disease or handicap did not came : ',notShowedMP)\n",
    "print ('Total of appointment with Patient with known disease or handicap : ',totalAppointmentMP)\n",
    "print('Percentage appointment with Patient with known disease or handicap did not come',round(notShowedMP/totalAppointmentMP*100,2))"
   ]
  },
  {
   "cell_type": "markdown",
   "metadata": {},
   "source": [
    "**result** \n",
    "\n",
    "Reminder : 20% of appointments no patient came in general  \n",
    "\n",
    "17% did not came if we focus on appointment about patient with known disease or handicap.\n",
    "\n",
    "I'll continue again the exploration to find something more singnificant"
   ]
  },
  {
   "cell_type": "markdown",
   "metadata": {},
   "source": [
    "### Research Question 6  : Scholarship relation !\n",
    "\n",
    "Let's check people under the state program"
   ]
  },
  {
   "cell_type": "markdown",
   "metadata": {},
   "source": [
    "**result** \n",
    "\n",
    "This one seems pretty explicit !\n",
    "\n",
    "Only 2.3% of the appointment were not honored when the patient has the benefit of the scholarship"
   ]
  },
  {
   "cell_type": "markdown",
   "metadata": {},
   "source": [
    "<a id='limitations'></a>\n",
    "## Limitations\n",
    "\n",
    "Although the database is pretty clean in terms of data, I am not able to imagine predicting if an appointement will be respected or not without any doubt.\n",
    "\n",
    "The AppointmentDay data with the time always at midnight is something we can improve.\n",
    "\n",
    "The most impacting limitation of the database to me is the age distribution. The more patient are aged, the less data we will have. I notice some centenary people we may drop from the analysis.  \n",
    "\n",
    "When I try to calculate the respect of appointment for each patient, the number of appointment a non respecful patient may be greater than a respectul one beacause he has to schedule another one.\n",
    "\n",
    "Concerning the challenge I face during the projet, there are so many, I had to took, the problem step by step, adding more difficulties each time.  \n",
    "Each answer can lead to another question, it is pretty difficult to find relevant question in the beginning of the project and it is also difficult to stop.\n",
    "At first I was thinking it will be easy to work with percentage but I had look for a lot of documentation to figure out how to do it.  \n",
    "I only begin to understand the documentation of pandas/numpy and Matplotlib but each time I come back to the project, I am more able to learn more.\n",
    "\n"
   ]
  },
  {
   "cell_type": "markdown",
   "metadata": {},
   "source": [
    "<a id='conclusions'></a>\n",
    "## Conclusions\n",
    "\n",
    "My study highlights :  \n",
    "1. 20% of appointement patient not came seems a huge to me.\n",
    "2. Appointment of people under Scholarship are respected.\n",
    "3. It seems the more appointment people have the more appointement they miss or mmaybe the more they miss the more they take.\n",
    "4. I imagine the best thing to do is to score the trust of each patient in order to schedule them in a smart way.\n",
    "\n",
    "\n",
    "**Nota**\n",
    "Concerning what I learn, I only begin to feel all the possibility of python, pandas...etc\n",
    "I still need to use the documentation and have to decompose my code a lot."
   ]
  },
  {
   "cell_type": "code",
   "execution_count": 33,
   "metadata": {},
   "outputs": [
    {
     "data": {
      "text/plain": [
       "0"
      ]
     },
     "execution_count": 33,
     "metadata": {},
     "output_type": "execute_result"
    }
   ],
   "source": [
    "from subprocess import call\n",
    "call(['python', '-m', 'nbconvert', 'Investigate_a_Dataset.ipynb'])"
   ]
  }
 ],
 "metadata": {
  "kernelspec": {
   "display_name": "Python 3",
   "language": "python",
   "name": "python3"
  },
  "language_info": {
   "codemirror_mode": {
    "name": "ipython",
    "version": 3
   },
   "file_extension": ".py",
   "mimetype": "text/x-python",
   "name": "python",
   "nbconvert_exporter": "python",
   "pygments_lexer": "ipython3",
   "version": "3.8.5"
  }
 },
 "nbformat": 4,
 "nbformat_minor": 2
}
