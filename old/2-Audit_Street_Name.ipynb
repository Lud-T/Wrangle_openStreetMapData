{
 "cells": [
  {
   "cell_type": "markdown",
   "metadata": {},
   "source": [
    "\n",
    "LESSON 13 CASE study\n",
    "Iterating through Ways Tags\n",
    "\n",
    "\n",
    "https://docs.python.org/fr/3/howto/regex.html\n",
    "\n",
    "\n"
   ]
  },
  {
   "cell_type": "code",
   "execution_count": 18,
   "metadata": {},
   "outputs": [
    {
     "name": "stdout",
     "output_type": "stream",
     "text": [
      "{'Boulevard': 10, 'Chemin': 26, 'Avenue': 12, 'Route': 3, 'Allée': 5, 'Rue': 89, 'Place': 7, 'Grand': 1, 'Impasse': 22, 'Piste': 1, 'Traverse': 3, 'Croix': 1, 'Montée': 1, 'Lotissement': 1}\n"
     ]
    }
   ],
   "source": [
    "#!/usr/bin/env python\n",
    "# -*- coding: utf-8 -*-\n",
    "import xml.etree.ElementTree as ET\n",
    "import re\n",
    "\n",
    "osm_file = 'data/map.osm'\n",
    "\n",
    "decoupe = re.compile(r'\\W+')\n",
    "\n",
    "def audit():\n",
    "    typeOfWays = {}\n",
    "    for _, elem in ET.iterparse(osm_file):\n",
    "        if elem.tag == \"way\":\n",
    "            for tag in elem.iter(\"tag\"):\n",
    "                if tag.attrib['k'] == \"highway\":\n",
    "                    for tag in elem.iter(\"tag\"):\n",
    "                         if tag.attrib['k'] == \"name\":\n",
    "                                if (decoupe.split(tag.attrib['v'])[0]) not in typeOfWays.keys():\n",
    "                                    typeOfWays[decoupe.split(tag.attrib['v'])[0]] = 1\n",
    "                                else:\n",
    "                                    typeOfWays[decoupe.split(tag.attrib['v'])[0]] += 1\n",
    "    return typeOfWays\n",
    "\n",
    "\n",
    "\n",
    "def main():\n",
    "    typeOfWays = audit()\n",
    "    print(typeOfWays)\n",
    "\n",
    "    \n",
    "if __name__ == \"__main__\":\n",
    "    main()"
   ]
  },
  {
   "cell_type": "code",
   "execution_count": null,
   "metadata": {},
   "outputs": [],
   "source": []
  }
 ],
 "metadata": {
  "kernelspec": {
   "display_name": "Python 3",
   "language": "python",
   "name": "python3"
  },
  "language_info": {
   "codemirror_mode": {
    "name": "ipython",
    "version": 3
   },
   "file_extension": ".py",
   "mimetype": "text/x-python",
   "name": "python",
   "nbconvert_exporter": "python",
   "pygments_lexer": "ipython3",
   "version": "3.8.5"
  }
 },
 "nbformat": 4,
 "nbformat_minor": 4
}
